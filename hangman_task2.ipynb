{
  "nbformat": 4,
  "nbformat_minor": 0,
  "metadata": {
    "colab": {
      "name": "Untitled5.ipynb",
      "provenance": [],
      "authorship_tag": "ABX9TyO9dGc+22n02yT4EMlOD7GW",
      "include_colab_link": true
    },
    "kernelspec": {
      "name": "python3",
      "display_name": "Python 3"
    },
    "language_info": {
      "name": "python"
    }
  },
  "cells": [
    {
      "cell_type": "markdown",
      "metadata": {
        "id": "view-in-github",
        "colab_type": "text"
      },
      "source": [
        "<a href=\"https://colab.research.google.com/github/priyansuapk/Python-Bootcamp/blob/main/hangman_task2.ipynb\" target=\"_parent\"><img src=\"https://colab.research.google.com/assets/colab-badge.svg\" alt=\"Open In Colab\"/></a>"
      ]
    },
    {
      "cell_type": "code",
      "metadata": {
        "colab": {
          "base_uri": "https://localhost:8080/"
        },
        "id": "VJSEYrT4ZJ72",
        "outputId": "5aeb7d69-1146-4b58-9a8d-7368602d76eb"
      },
      "source": [
        "#Step 2\n",
        "\n",
        "import random\n",
        "word_list = [\"aardvark\", \"baboon\", \"camel\"]\n",
        "chosen_word = random.choice(word_list)\n",
        "\n",
        "#Testing code\n",
        "print(f'Pssst, the solution is {chosen_word}.')\n",
        "\n",
        "#TODO-1: - Create an empty List called display.\n",
        "#For each letter in the chosen_word, add a \"_\" to 'display'.\n",
        "#So if the chosen_word was \"apple\", display should be [\"_\", \"_\", \"_\", \"_\", \"_\"] with 5 \"_\" representing each letter to guess.\n",
        "\n",
        "guess = input(\"Guess a letter: \").lower()\n",
        "display = []\n",
        "for _ in range(len(chosen_word)):\n",
        "  display+=\"_\"\n",
        "#TODO-2: - Loop through each position in the chosen_word;\n",
        "#If the letter at that position matches 'guess' then reveal that letter in the display at that position.\n",
        "#e.g. If the user guessed \"p\" and the chosen word was \"apple\", then display should be [\"_\", \"p\", \"p\", \"_\", \"_\"].\n",
        "\n",
        "for position in range(len(chosen_word)):\n",
        "  letter=chosen_word[position]\n",
        "  if letter == guess:\n",
        "    display[position]=guess\n",
        "    print(\"Right\")\n",
        "  else:\n",
        "    print(\"Wrong\")\n",
        "   \n",
        "      \n",
        "\n",
        "#TODO-3: - Print 'display' and you should see the guessed letter in the correct position and every other letter replace with \"_\".\n",
        "#Hint - Don't worry about getting the user to guess the next letter. We'll tackle that in step 3.\n",
        "print(display)"
      ],
      "execution_count": 2,
      "outputs": [
        {
          "output_type": "stream",
          "text": [
            "Pssst, the solution is camel.\n",
            "Guess a letter: e\n",
            "Wrong\n",
            "Wrong\n",
            "Wrong\n",
            "Right\n",
            "Wrong\n",
            "['_', '_', '_', 'e', '_']\n"
          ],
          "name": "stdout"
        }
      ]
    },
    {
      "cell_type": "code",
      "metadata": {
        "id": "jmIiQUDJZtph"
      },
      "source": [
        ""
      ],
      "execution_count": null,
      "outputs": []
    }
  ]
}