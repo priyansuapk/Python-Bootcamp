{
  "nbformat": 4,
  "nbformat_minor": 0,
  "metadata": {
    "colab": {
      "name": "Untitled4.ipynb",
      "provenance": [],
      "authorship_tag": "ABX9TyOim8ChLKvRaD6wLN0/sWxW",
      "include_colab_link": true
    },
    "kernelspec": {
      "name": "python3",
      "display_name": "Python 3"
    },
    "language_info": {
      "name": "python"
    }
  },
  "cells": [
    {
      "cell_type": "markdown",
      "metadata": {
        "id": "view-in-github",
        "colab_type": "text"
      },
      "source": [
        "<a href=\"https://colab.research.google.com/github/priyansuapk/Python-Bootcamp/blob/main/hangman_task1.ipynb\" target=\"_parent\"><img src=\"https://colab.research.google.com/assets/colab-badge.svg\" alt=\"Open In Colab\"/></a>"
      ]
    },
    {
      "cell_type": "code",
      "metadata": {
        "colab": {
          "base_uri": "https://localhost:8080/"
        },
        "id": "qbsNXH3hwAPB",
        "outputId": "7257cab6-8257-4e51-da01-b439379952b1"
      },
      "source": [
        "#Step 1 \n",
        "word_list = [\"aardvark\", \"baboon\", \"camel\"]\n",
        "\n",
        "#TODO-1 - Randomly choose a word from the word_list and assign it to a variable called chosen_word.\n",
        "import random\n",
        "chosen_word=random.choice(word_list)\n",
        "#TODO-2 - Ask the user to guess a letter and assign their answer to a variable called guess. Make guess lowercase.\n",
        "guess = input('guess a letter').lower()\n",
        "\n",
        "#TODO-3 - Check if the letter the user guessed (guess) is one of the letters in the chosen_word.\n",
        "for letter in chosen_word:\n",
        "  if letter==guess:\n",
        "    print('right')\n",
        "  else:\n",
        "    print('wrong')  \n"
      ],
      "execution_count": 3,
      "outputs": [
        {
          "output_type": "stream",
          "text": [
            "guess a lettera\n",
            "wrong\n",
            "right\n",
            "wrong\n",
            "wrong\n",
            "wrong\n"
          ],
          "name": "stdout"
        }
      ]
    },
    {
      "cell_type": "code",
      "metadata": {
        "id": "FiHsvl2PyTJA"
      },
      "source": [
        ""
      ],
      "execution_count": null,
      "outputs": []
    }
  ]
}